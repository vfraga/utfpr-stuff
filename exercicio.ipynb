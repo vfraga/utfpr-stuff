{
 "cells": [
  {
   "cell_type": "markdown",
   "metadata": {
    "pycharm": {
     "name": "#%% md\n"
    }
   },
   "source": [
    "### Lista 01\n",
    "#### Dados de Identificação:\n",
    "> <b>Professor:</b> Tatiana M. Saita <br>\n",
    "> <b>Disciplina:</b> Estatística <br>\n",
    "> <b>Aluno:</b> Vinicius Fraga"
   ]
  },
  {
   "cell_type": "markdown",
   "metadata": {
    "pycharm": {
     "name": "#%% md\n"
    }
   },
   "source": [
    "___"
   ]
  },
  {
   "cell_type": "code",
   "execution_count": 1,
   "metadata": {
    "pycharm": {
     "name": "#%%\n"
    }
   },
   "outputs": [],
   "source": [
    "# Importando os módulos necessários\n",
    "\n",
    "import numpy as np\n",
    "from matplotlib import pyplot as plt\n",
    "from scipy.stats import mode"
   ]
  },
  {
   "cell_type": "markdown",
   "metadata": {
    "pycharm": {
     "name": "#%% md\n"
    }
   },
   "source": [
    "___"
   ]
  },
  {
   "cell_type": "markdown",
   "metadata": {},
   "source": [
    "<b>1.</b> Num experimento, 15 coelhos foram alimentados com uma nova ração e seu peso avaliado ao fim de um mês. Os dados referentes ao ganho de peso (em quilogramas) foram os seguintes:\n",
    "\n",
    "> [1.5, 1.6, 2.3, 1.7, 1.5, 2, 1.5, 1.8, 2.1, 2.1, 1.9, 1.8, 1.7, 2.5, 2.2]\n",
    "\n",
    "<b>(a)</b> <i>Utilizando os dados brutos, determine a média, moda e mediana desse conjunto.</i>"
   ]
  },
  {
   "cell_type": "code",
   "execution_count": 2,
   "metadata": {
    "pycharm": {
     "name": "#%%\n"
    }
   },
   "outputs": [
    {
     "name": "stdout",
     "output_type": "stream",
     "text": [
      "Média: 1.88\n",
      "Moda: 1.5 com 3 repetições\n",
      "Mediana: 1.8\n"
     ]
    }
   ],
   "source": [
    "pesos = sorted([1.5, 1.6, 2.3, 1.7, 1.5, 2, 1.5, 1.8, 2.1, 2.1, 1.9, 1.8, 1.7, 2.5, 2.2])\n",
    "# Os valores já são sortidos pela função 'sorted'.\n",
    "\n",
    "print(f'Média: {np.mean(pesos):.2f}\\n'\n",
    "      f'Moda: {mode(pesos)[0][0]} com {mode(pesos)[1][0]} repetições\\n'\n",
    "      f'Mediana: {np.median(pesos)}')"
   ]
  },
  {
   "cell_type": "markdown",
   "metadata": {
    "pycharm": {
     "name": "#%% md\n"
    }
   },
   "source": [
    "<b>(b)</b> <i>Organize uma tabela de frequência com faixas de amplitude 0, 2 a partir de 1, 5.</i>"
   ]
  },
  {
   "cell_type": "code",
   "execution_count": 3,
   "metadata": {
    "pycharm": {
     "name": "#%%\n"
    }
   },
   "outputs": [
    {
     "name": "stdout",
     "output_type": "stream",
     "text": [
      "Intervalo: 1.5 — 1.7 | Freq. Absoluta: 4 | Freq. Relativa: 26.67%\n",
      "Intervalo: 1.7 — 1.9 | Freq. Absoluta: 4 | Freq. Relativa: 26.67%\n",
      "Intervalo: 1.9 — 2.1 | Freq. Absoluta: 2 | Freq. Relativa: 13.33%\n",
      "Intervalo: 2.1 — 2.3 | Freq. Absoluta: 3 | Freq. Relativa: 20.00%\n",
      "Intervalo: 2.3 — 2.5 | Freq. Absoluta: 1 | Freq. Relativa: 6.67%\n",
      "Intervalo: 2.5 — 2.7 | Freq. Absoluta: 1 | Freq. Relativa: 6.67%\n"
     ]
    }
   ],
   "source": [
    "result = []\n",
    "\n",
    "for value in range(int(pesos[0] * 10), int(pesos[-1] * 10 + 2), 2):\n",
    "    # Workaround para o uso de pontos flutuantes é multiplicar até ser inteiro\n",
    "    # e depois dividir de volta.\n",
    "    # Infelizmente não funcionaria com números irracionais.\n",
    "\n",
    "    val = round(value / 10, 2)\n",
    "    rlt = {'min': val, 'max': round(val + 0.2, 2), 'abs_frequency': 0}\n",
    "    for item in pesos:\n",
    "        if rlt.get('min') <= item < rlt.get('max'):\n",
    "            rlt['abs_frequency'] += 1\n",
    "    rlt['rel_frequency'] = f\"{rlt['abs_frequency']/len(pesos) * 100:.2f}%\"\n",
    "    result.append(rlt)\n",
    "\n",
    "for value in result:\n",
    "    print(f\"Intervalo: {value['min']} — {value['max']} | \"\n",
    "          f\"Freq. Absoluta: {value['abs_frequency']} | \"\n",
    "          f\"Freq. Relativa: {value['rel_frequency']}\")\n",
    "\n",
    "del result"
   ]
  },
  {
   "cell_type": "markdown",
   "metadata": {
    "pycharm": {
     "name": "#%% md\n"
    }
   },
   "source": [
    "<b>(c)</b> <i>Faça um box-plot dos dados.</i>"
   ]
  },
  {
   "cell_type": "code",
   "execution_count": 4,
   "metadata": {
    "pycharm": {
     "name": "#%%\n"
    }
   },
   "outputs": [
    {
     "data": {
      "image/png": "[encoded data removed]",
      "text/plain": [
       "<Figure size 432x288 with 1 Axes>"
      ]
     },
     "metadata": {
      "needs_background": "light"
     },
     "output_type": "display_data"
    }
   ],
   "source": [
    "fig1, ax1 = plt.subplots()\n",
    "ax1.set_title('Ganho de Peso (kg)')\n",
    "ax1.boxplot(pesos, labels=[' '])\n",
    "ax1.yaxis.grid(True, linestyle='-', which='major', color='lightgrey',\n",
    "               alpha=0.5)\n",
    "plt.show()"
   ]
  },
  {
   "cell_type": "markdown",
   "metadata": {
    "pycharm": {
     "name": "#%% md\n"
    }
   },
   "source": [
    "<b>2.</b> Vinte e cinco residências de um certo bairro foram sorteadas e visitadas por um entrevistador que, entre outras questões, perguntou sobre o número de televisores. Os dados foram os seguintes:\n",
    "> [2, 2, 2, 3, 1, 2, 1, 1, 1, 1, 0, 1, 2, 2, 2, 2, 3, 1, 1, 3, 1, 2, 1, 0, 2]\n",
    "\n",
    "<i>Organize os dados numa tabela de frequência e determine as medidas de tendência central (média, moda e mediana).</i>"
   ]
  },
  {
   "cell_type": "code",
   "execution_count": 5,
   "metadata": {
    "pycharm": {
     "name": "#%%\n"
    }
   },
   "outputs": [
    {
     "name": "stdout",
     "output_type": "stream",
     "text": [
      "Nº de TVs: 0 | Freq. Absoluta: 2 | Freq. Relativa: 8.0%\n",
      "Nº de TVs: 1 | Freq. Absoluta: 10 | Freq. Relativa: 40.0%\n",
      "Nº de TVs: 2 | Freq. Absoluta: 10 | Freq. Relativa: 40.0%\n",
      "Nº de TVs: 3 | Freq. Absoluta: 3 | Freq. Relativa: 12.0%\n",
      "\n",
      "Média: 1.56\n",
      "Moda: 1 com 10 repetições\n",
      "Mediana: 2.0\n"
     ]
    }
   ],
   "source": [
    "tvs = [2, 2, 2, 3, 1, 2, 1, 1, 1, 1, 0, 1, 2, 2, 2, 2, 3, 1, 1, 3, 1, 2, 1, 0, 2]\n",
    "\n",
    "for value in sorted(set(tvs)):\n",
    "    print(f\"Nº de TVs: {value} | \"\n",
    "          f\"Freq. Absoluta: {tvs.count(value)} | \"\n",
    "          f\"Freq. Relativa: {round(tvs.count(value) / len(tvs) * 100, 2)}%\")\n",
    "\n",
    "print(f'\\nMédia: {np.mean(tvs):.2f}\\n'\n",
    "      f'Moda: {mode(tvs)[0][0]} com {mode(tvs)[1][0]} repetições\\n'\n",
    "      f'Mediana: {np.median(tvs)}')"
   ]
  },
  {
   "cell_type": "markdown",
   "metadata": {
    "pycharm": {
     "name": "#%% md\n"
    }
   },
   "source": [
    "<b>3.</b> Um certo cruzamento tem alto índice de acidentes de trânsito, conforme pode ser constatado em uma amostra dos últimos doze meses:\n",
    "> [5, 4, 7, 8, 5, 6, 4, 7, 9, 7, 6, 8]\n",
    "\n",
    "<i>Determine a média e a variância do número de acidentes mensais neste cruzamento.</i>"
   ]
  },
  {
   "cell_type": "code",
   "execution_count": 6,
   "metadata": {
    "pycharm": {
     "name": "#%%\n"
    }
   },
   "outputs": [
    {
     "name": "stdout",
     "output_type": "stream",
     "text": [
      "Média: 6.33\n",
      "Variância: 2.61\n"
     ]
    }
   ],
   "source": [
    "acidentes = [5, 4, 7, 8, 5, 6, 4, 7, 9, 7, 6, 8]\n",
    "\n",
    "print(f'Média: {np.mean(acidentes):.2f}\\n'\n",
    "      f'Variância: {np.var(acidentes, ddof=1):.2f}')\n",
    "    # Aqui o parâmetro 'ddof' é importante para diferenciar entre\n",
    "    # sample e population nas funções de cálculo de variância e desvio padrão."
   ]
  },
  {
   "cell_type": "markdown",
   "metadata": {
    "pycharm": {
     "name": "#%% md\n"
    }
   },
   "source": [
    "<b>4.</b> Estudando uma nova técnica de sutura, foram contados os dias necessários para a completa cicatrização de determinada cirurgia. <br>\n",
    "Os resultados, de 25 pacientes foram os seguintes:\n",
    "> [6, 8, 9, 7, 8, 6, 6, 7, 8, 9, 10, 7, 8, 10, 9, 9, 9, 7, 6, 5, 7, 7, 8, 10, 11]\n",
    "\n",
    "<i>Organize os dados numa tabela de frequência e calcula a média, a variância e o desvio padrão.</i>"
   ]
  },
  {
   "cell_type": "code",
   "execution_count": 7,
   "metadata": {
    "pycharm": {
     "name": "#%%\n"
    }
   },
   "outputs": [
    {
     "name": "stdout",
     "output_type": "stream",
     "text": [
      "Dias para Cicatrizar: 5 | Freq. Absoluta: 1 | Freq. Relativa: 4.0%\n",
      "Dias para Cicatrizar: 6 | Freq. Absoluta: 4 | Freq. Relativa: 16.0%\n",
      "Dias para Cicatrizar: 7 | Freq. Absoluta: 6 | Freq. Relativa: 24.0%\n",
      "Dias para Cicatrizar: 8 | Freq. Absoluta: 5 | Freq. Relativa: 20.0%\n",
      "Dias para Cicatrizar: 9 | Freq. Absoluta: 5 | Freq. Relativa: 20.0%\n",
      "Dias para Cicatrizar: 10 | Freq. Absoluta: 3 | Freq. Relativa: 12.0%\n",
      "Dias para Cicatrizar: 11 | Freq. Absoluta: 1 | Freq. Relativa: 4.0%\n",
      "\n",
      "Média: 7.88\n",
      "Moda: 7 com 6 repetições\n",
      "Mediana: 8.0\n",
      "Desvio Padrão: 1.536\n"
     ]
    }
   ],
   "source": [
    "d_cicatriz = [6, 8, 9, 7, 8, 6, 6, 7, 8, 9, 10, 7, 8, 10, 9, 9, 9, 7, 6, 5, 7, 7, 8, 10, 11]\n",
    "\n",
    "for value in sorted(set(d_cicatriz)):\n",
    "    print(f\"Dias para Cicatrizar: {value} | \"\n",
    "          f\"Freq. Absoluta: {d_cicatriz.count(value)} | \"\n",
    "          f\"Freq. Relativa: {round(d_cicatriz.count(value) / len(d_cicatriz) * 100, 2)}%\")\n",
    "\n",
    "print(f'\\nMédia: {np.mean(d_cicatriz):.2f}\\n'\n",
    "      f'Moda: {mode(d_cicatriz)[0][0]} com {mode(d_cicatriz)[1][0]} repetições\\n'\n",
    "      f'Mediana: {np.median(d_cicatriz)}\\n'\n",
    "      f'Desvio Padrão: {np.std(d_cicatriz, ddof=1):.3f}')"
   ]
  },
  {
   "cell_type": "markdown",
   "metadata": {
    "pycharm": {
     "name": "#%% md\n"
    }
   },
   "source": [
    "<b>5.</b> Uma amostra de vinte empresas, de porte médio, foi escolhida para um estudo sobre o nível educacional dos funcionários do setor de vendas. Os dados coletados, quanto ao número de empregados com o curso superior completo, são apresentados abaixo:\n",
    "\n",
    "> [1, 0, 0, 3, 0, 1, 1, 2, 2, 2, 0, 2, 0, 2, 0, 1, 1, 2, 3, 2]\n",
    "\n",
    "<b>(a)</b> <i>Organize uma tabela de frequência e calcule a média, moda e mediana.</i>"
   ]
  },
  {
   "cell_type": "code",
   "execution_count": 8,
   "metadata": {
    "pycharm": {
     "name": "#%%\n"
    }
   },
   "outputs": [
    {
     "name": "stdout",
     "output_type": "stream",
     "text": [
      "Nº Func. c/ Ensino Superior: 0 | Freq. Absoluta: 6 | Freq. Relativa: 30.0%\n",
      "Nº Func. c/ Ensino Superior: 1 | Freq. Absoluta: 5 | Freq. Relativa: 25.0%\n",
      "Nº Func. c/ Ensino Superior: 2 | Freq. Absoluta: 7 | Freq. Relativa: 35.0%\n",
      "Nº Func. c/ Ensino Superior: 3 | Freq. Absoluta: 2 | Freq. Relativa: 10.0%\n",
      "\n",
      "Média: 1.25\n",
      "Moda: 2 com 7 repetições\n",
      "Mediana: 1.0\n",
      "\n"
     ]
    }
   ],
   "source": [
    "ens_superior = [1, 0, 0, 3, 0, 1, 1, 2, 2, 2, 0, 2, 0, 2, 0, 1, 1, 2, 3, 2]\n",
    "\n",
    "for value in sorted(set(ens_superior)):\n",
    "    print(f\"Nº Func. c/ Ensino Superior: {value} | \"\n",
    "          f\"Freq. Absoluta: {ens_superior.count(value)} | \"\n",
    "          f\"Freq. Relativa: {round(ens_superior.count(value) / len(ens_superior) * 100, 2)}%\")\n",
    "\n",
    "print(f'\\nMédia: {np.mean(ens_superior):.2f}\\n'\n",
    "      f'Moda: {mode(ens_superior)[0][0]} com {mode(ens_superior)[1][0]} repetições\\n'\n",
    "      f'Mediana: {np.median(ens_superior)}\\n')"
   ]
  },
  {
   "cell_type": "markdown",
   "metadata": {
    "pycharm": {
     "name": "#%% md\n"
    }
   },
   "source": [
    "<b>(b)</b> <i>Determine o desvio padrão.</i>"
   ]
  },
  {
   "cell_type": "code",
   "execution_count": 9,
   "metadata": {
    "pycharm": {
     "name": "#%%\n"
    }
   },
   "outputs": [
    {
     "name": "stdout",
     "output_type": "stream",
     "text": [
      "Desvio Padrão: 1.020\n"
     ]
    }
   ],
   "source": [
    "print(f'Desvio Padrão: {np.std(ens_superior, ddof=1):.3f}')"
   ]
  },
  {
   "cell_type": "markdown",
   "metadata": {
    "pycharm": {
     "name": "#%% md\n"
    }
   },
   "source": [
    "<b>6.</b> As notas finais de estatística para alunos de um curso de Administração foram as seguintes:\n",
    "\n",
    "> [7, 5, 4, 5, 6, 3, 8, 4, 5, 4, 5, 4, 6, 4, 5, 6, 4, 6, 6, 3, 8, 4, 5, 4, 5, 5, 6]\n",
    "\n",
    "<b>(a)</b> <i>Determine a mediana e a média.</i>"
   ]
  },
  {
   "cell_type": "code",
   "execution_count": 10,
   "metadata": {
    "pycharm": {
     "name": "#%%\n"
    }
   },
   "outputs": [
    {
     "name": "stdout",
     "output_type": "stream",
     "text": [
      "Média: 5.07\n",
      "Mediana: 5.0\n"
     ]
    }
   ],
   "source": [
    "notas = [7, 5, 4, 5, 6, 3, 8, 4, 5, 4, 5, 4, 6, 4, 5, 6, 4, 6, 6, 3, 8, 4, 5, 4, 5, 5, 6]\n",
    "\n",
    "aprov = [x for x in notas if x >= 5]\n",
    "reprov = [x for x in notas if x < 5]\n",
    "\n",
    "print(f'Média: {np.mean(notas):.2f}\\n'\n",
    "      f'Mediana: {np.median(notas)}')"
   ]
  },
  {
   "cell_type": "markdown",
   "metadata": {
    "pycharm": {
     "name": "#%% md\n"
    }
   },
   "source": [
    "<b>(b)</b> <i>Separe o conjunto de dados em dois grupos denominados aprovados, com nota pelo menos igual a 5, e reprovados para os demais. Compare a variância desses dois grupos.</i>"
   ]
  },
  {
   "cell_type": "code",
   "execution_count": 11,
   "metadata": {
    "pycharm": {
     "name": "#%%\n"
    }
   },
   "outputs": [
    {
     "name": "stdout",
     "output_type": "stream",
     "text": [
      "\n",
      "Variância Aprovados: 1.029\n",
      "Variância Reprovados: 0.178\n"
     ]
    }
   ],
   "source": [
    "v_aprov = np.var(aprov, ddof=1)\n",
    "v_reprov = np.var(reprov, ddof=1)\n",
    "\n",
    "print(f'\\nVariância Aprovados: {round(v_aprov, 3)}\\n'\n",
    "      f'Variância Reprovados: {round(v_reprov, 3)}')"
   ]
  },
  {
   "cell_type": "markdown",
   "metadata": {
    "pycharm": {
     "name": "#%% md\n"
    }
   },
   "source": [
    "<b>7.</b> Um hospital maternidade planeja ampliar os leitos para recém-nascidos. Para tal, fez um levantamento dos últimos 50 nascimentos, obtendo a informação sobre o número de dias que os bebês permaneceram no hospital, antes de terem alta.\n",
    "Os dados, já ordenados, são apresentados a seguir:\n",
    "\n",
    "> [1, 1, 1, 2, 2, 2, 2, 2, 2, 2, 2, 2, 2, 2, 3, 3, 3, 3, 3, 3, 3, 3, 3, 3, 3, 3, 3, 3, 3, 3, 4, 4, 4, 4, 4, 4, 4, 4, 4, 5, 5, 5, 5, 5, 5, 6, 7, 7, 8, 15]\n",
    "\n",
    "<b>(a)</b> <i>Organize uma tabela de frequência.</i>"
   ]
  },
  {
   "cell_type": "code",
   "execution_count": 12,
   "metadata": {
    "pycharm": {
     "name": "#%%\n"
    }
   },
   "outputs": [
    {
     "name": "stdout",
     "output_type": "stream",
     "text": [
      "Dias para Cicatrizar: 1 | Freq. Absoluta: 3 | Freq. Relativa: 6.0%\n",
      "Dias para Cicatrizar: 2 | Freq. Absoluta: 11 | Freq. Relativa: 22.0%\n",
      "Dias para Cicatrizar: 3 | Freq. Absoluta: 16 | Freq. Relativa: 32.0%\n",
      "Dias para Cicatrizar: 4 | Freq. Absoluta: 9 | Freq. Relativa: 18.0%\n",
      "Dias para Cicatrizar: 5 | Freq. Absoluta: 6 | Freq. Relativa: 12.0%\n",
      "Dias para Cicatrizar: 6 | Freq. Absoluta: 1 | Freq. Relativa: 2.0%\n",
      "Dias para Cicatrizar: 7 | Freq. Absoluta: 2 | Freq. Relativa: 4.0%\n",
      "Dias para Cicatrizar: 8 | Freq. Absoluta: 1 | Freq. Relativa: 2.0%\n",
      "Dias para Cicatrizar: 15 | Freq. Absoluta: 1 | Freq. Relativa: 2.0%\n"
     ]
    }
   ],
   "source": [
    "nascimento = [1, 1, 1, 2, 2, 2, 2, 2, 2, 2, 2, 2, 2, 2, 3, 3, 3, 3, 3, 3, 3, 3, 3, 3, 3,\n",
    "              3, 3, 3, 3, 3, 4, 4, 4, 4, 4, 4, 4, 4, 4, 5, 5, 5, 5, 5, 5, 6, 7, 7, 8, 15]\n",
    "\n",
    "for value in sorted(set(nascimento)):\n",
    "    print(f\"Dias para Cicatrizar: {value} | \"\n",
    "          f\"Freq. Absoluta: {nascimento.count(value)} | \"\n",
    "          f\"Freq. Relativa: {round(nascimento.count(value) / len(nascimento) * 100, 2)}%\")"
   ]
  },
  {
   "cell_type": "markdown",
   "metadata": {
    "pycharm": {
     "name": "#%% md\n"
    }
   },
   "source": [
    "<b>(b)</b> <i>Calcule a média, mediana e moda.</i>"
   ]
  },
  {
   "cell_type": "code",
   "execution_count": 13,
   "metadata": {
    "pycharm": {
     "name": "#%%\n"
    }
   },
   "outputs": [
    {
     "name": "stdout",
     "output_type": "stream",
     "text": [
      "\n",
      "Média: 3.64\n",
      "Moda: 3 com 16 repetições\n",
      "Mediana: 3.0\n",
      "\n"
     ]
    }
   ],
   "source": [
    "print(f'\\nMédia: {np.mean(nascimento):.2f}\\n'\n",
    "      f'Moda: {mode(nascimento)[0][0]} com {mode(nascimento)[1][0]} repetições\\n'\n",
    "      f'Mediana: {np.median(nascimento)}\\n')"
   ]
  },
  {
   "cell_type": "markdown",
   "metadata": {
    "pycharm": {
     "name": "#%% md\n"
    }
   },
   "source": [
    "<b>(c)</b> <i>Determine o desvio padrão.</i>"
   ]
  },
  {
   "cell_type": "code",
   "execution_count": 14,
   "metadata": {
    "pycharm": {
     "name": "#%%\n"
    }
   },
   "outputs": [
    {
     "name": "stdout",
     "output_type": "stream",
     "text": [
      "Desvio Padrão: 2.238\n"
     ]
    }
   ],
   "source": [
    "print(f'Desvio Padrão: {np.std(nascimento, ddof=1):.3f}')"
   ]
  },
  {
   "cell_type": "markdown",
   "metadata": {
    "pycharm": {
     "name": "#%% md\n"
    }
   },
   "source": [
    "<b>(d)</b> <i>Dentre as medidas de posição do item b, discuta quais delas seriam mais adequadas\n",
    "para resumir esse conjunto de dados.</i>\n",
    "\n",
    "> Este conjunto de dados claramente representa uma distribuição normal, ou distribuição Gaussiana, portanto, é evidente que a moda, nesse caso, representa o \"pico\" da distribuição; a média, o meio-termo dos valores totais; e a mediana, a pontuação média para um conjunto de dados que foi organizado em ordem de magnitude. <br>\n",
    "> Considerando essa visão, para solucionar o problema da questão, o uso da mediana seria mais cabível."
   ]
  },
  {
   "cell_type": "markdown",
   "metadata": {
    "pycharm": {
     "name": "#%% md\n"
    }
   },
   "source": [
    "<b>(e)</b> <i>Você identifica algum valor outlier? Se sim, remova-o obtendo uma nova tabela de frequência e refaça os itens b e c. Comente as diferenças encontradas.</i>\n",
    "\n",
    "> Sim, 15 dias de hospitalização parece um caso extremo que ocorreu durante a coleta de dados."
   ]
  },
  {
   "cell_type": "code",
   "execution_count": 15,
   "metadata": {
    "pycharm": {
     "name": "#%%\n"
    }
   },
   "outputs": [
    {
     "name": "stdout",
     "output_type": "stream",
     "text": [
      "\n",
      "Média: 3.41\n",
      "Moda: 3 com 16 repetições\n",
      "Mediana: 3.0\n",
      "Desvio Padrão: 1.540\n"
     ]
    }
   ],
   "source": [
    "nascimento = [1, 1, 1, 2, 2, 2, 2, 2, 2, 2, 2, 2, 2, 2, 3, 3, 3, 3, 3, 3, 3, 3, 3, 3, 3,\n",
    "              3, 3, 3, 3, 3, 4, 4, 4, 4, 4, 4, 4, 4, 4, 5, 5, 5, 5, 5, 5, 6, 7, 7, 8]\n",
    "\n",
    "print(f'\\nMédia: {np.mean(nascimento):.2f}\\n'\n",
    "      f'Moda: {mode(nascimento)[0][0]} com {mode(nascimento)[1][0]} repetições\\n'\n",
    "      f'Mediana: {np.median(nascimento)}\\n'\n",
    "      f'Desvio Padrão: {np.std(nascimento, ddof=1):.3f}')"
   ]
  },
  {
   "cell_type": "markdown",
   "metadata": {
    "pycharm": {
     "name": "#%% md\n"
    }
   },
   "source": [
    "> Como a diferença na soma total é grande, após retirar o <i>outlier</i>, vemos um impacto significante na média, e no desvio padrão."
   ]
  },
  {
   "cell_type": "markdown",
   "metadata": {
    "pycharm": {
     "name": "#%% md\n"
    }
   },
   "source": [
    "<b>8.</b> Foram anotados os níveis de colesterol (em mg/100ml) para trinta pacientes de uma clínica cardíaca. As medidas se referem a homens entre 40 e 60 anos de idade que foram à clínica fazer um check-up.\n",
    "\n",
    "> [160, 160, 161, 163, 167, 170, 172, 172, 173, 177, 178, 181, 181, 182, 185, 186, 194, 197, 199, 203, 203, 205, 206, 206, 208, 209, 211, 214, 218, 225]\n",
    "\n",
    "<b>(a)</b> <i>Calcule a média, a moda, a mediana e a variância a partir da tabela de dados brutos.</i>"
   ]
  },
  {
   "cell_type": "code",
   "execution_count": 16,
   "metadata": {
    "pycharm": {
     "name": "#%%\n"
    }
   },
   "outputs": [
    {
     "name": "stdout",
     "output_type": "stream",
     "text": [
      "Média: 188.87\n",
      "Moda: 160 com 2 repetições\n",
      "Mediana: 185.5\n",
      "Variância: 369.292\n",
      "\n"
     ]
    }
   ],
   "source": [
    "colesterol = [160, 160, 161, 163, 167, 170, 172, 172, 173, 177, 178, 181, 181, 182, 185,\n",
    "              186, 194, 197, 199, 203, 203, 205, 206, 206, 208, 209, 211, 214, 218, 225]\n",
    "\n",
    "print(f'Média: {np.mean(colesterol):.2f}\\n'\n",
    "      f'Moda: {mode(colesterol)[0][0]} com {mode(colesterol)[1][0]} repetições\\n'\n",
    "      f'Mediana: {np.median(colesterol)}\\n'\n",
    "      f'Variância: {np.var(colesterol, ddof=1):.3f}\\n')"
   ]
  },
  {
   "cell_type": "markdown",
   "metadata": {
    "pycharm": {
     "name": "#%% md\n"
    }
   },
   "source": [
    "<b>(b)</b> <i>Organize os dados em uma tabela de frequência com faixas de tamanho de 10 a\n",
    "partir de 160.</i>"
   ]
  },
  {
   "cell_type": "code",
   "execution_count": 17,
   "metadata": {
    "pycharm": {
     "name": "#%%\n"
    }
   },
   "outputs": [
    {
     "name": "stdout",
     "output_type": "stream",
     "text": [
      "Intervalo: 160 — 170 | Freq. Absoluta: 5 | Freq. Relativa: 16.67%\n",
      "Intervalo: 170 — 180 | Freq. Absoluta: 6 | Freq. Relativa: 20.00%\n",
      "Intervalo: 180 — 190 | Freq. Absoluta: 5 | Freq. Relativa: 16.67%\n",
      "Intervalo: 190 — 200 | Freq. Absoluta: 3 | Freq. Relativa: 10.00%\n",
      "Intervalo: 200 — 210 | Freq. Absoluta: 7 | Freq. Relativa: 23.33%\n",
      "Intervalo: 210 — 220 | Freq. Absoluta: 3 | Freq. Relativa: 10.00%\n",
      "Intervalo: 220 — 230 | Freq. Absoluta: 1 | Freq. Relativa: 3.33%\n"
     ]
    }
   ],
   "source": [
    "result = []\n",
    "\n",
    "for value in range(colesterol[0], colesterol[-1] + 10, 10):\n",
    "    rlt = {'min': value, 'max': value + 10, 'abs_frequency': 0}\n",
    "    for item in colesterol:\n",
    "        if rlt.get('min') <= item < rlt.get('max'):\n",
    "            rlt['abs_frequency'] += 1\n",
    "    rlt['rel_frequency'] = f\"{rlt['abs_frequency']/len(colesterol) * 100:.2f}%\"\n",
    "    if rlt['abs_frequency'] > 0:\n",
    "        result.append(rlt)\n",
    "\n",
    "for value in result:\n",
    "    print(f\"Intervalo: {value['min']} — {value['max']} | \"\n",
    "          f\"Freq. Absoluta: {value['abs_frequency']} | \"\n",
    "          f\"Freq. Relativa: {value['rel_frequency']}\")\n",
    "\n",
    "del result"
   ]
  },
  {
   "cell_type": "markdown",
   "metadata": {
    "pycharm": {
     "name": "#%% md\n"
    }
   },
   "source": [
    "<b>9.</b> Verifique quais afirmações estão corretas. Caso seja falsa, apresente um contra-exemplo.\n",
    "\n",
    "<b>(a)</b> <i>Exatamente metade das observações em uma amostra cairá abaixo da média?</i>\n",
    "\n",
    "> Em situações onde a distribuição é simétrica, sim. No entanto, distribuições enviesadas podem apresentar valores onde a média está aos extremos.\n",
    "\n",
    "<b>(b)</b> <i>O desvio padrão pode ser igual a zero?</i>\n",
    "\n",
    "> O desvio padrão pode variar entre 0 e infinito, onde um desvio padrão de 0 significa que uma lista de números são todos iguais."
   ]
  },
  {
   "cell_type": "markdown",
   "metadata": {
    "pycharm": {
     "name": "#%% md\n"
    }
   },
   "source": [
    "<b>10.</b> O tempo de ignição fria de um motor de carro está sendo investigado por um fabricante de gasolina. Os seguintes tempos (em segundos) foram obtidos em um veículo de teste:\n",
    "\n",
    "> [1.75, 1.92, 2.62, 2.35, 3.09, 3.15, 2.53, 1.91]\n",
    "\n",
    "<b>(a)</b> <i>Calcule a média, a variância e o desvio-padrão da amostra.</i>"
   ]
  },
  {
   "cell_type": "code",
   "execution_count": 18,
   "metadata": {
    "pycharm": {
     "name": "#%%\n"
    }
   },
   "outputs": [
    {
     "name": "stdout",
     "output_type": "stream",
     "text": [
      "Média: 2.42\n",
      "Variância: 0.285\n",
      "Desvio Padrão: 0.534\n"
     ]
    }
   ],
   "source": [
    "ignicao = [1.75, 1.92, 2.62, 2.35, 3.09, 3.15, 2.53, 1.91]\n",
    "\n",
    "print(f'Média: {np.mean(ignicao):.2f}\\n'\n",
    "      f'Variância: {np.var(ignicao, ddof=1):.3f}\\n'\n",
    "      f'Desvio Padrão: {np.std(ignicao, ddof=1):.3f}')"
   ]
  },
  {
   "cell_type": "markdown",
   "metadata": {
    "pycharm": {
     "name": "#%% md\n"
    }
   },
   "source": [
    "<b>(b)</b> <i>Construa um box-plot dos dados.</i>"
   ]
  },
  {
   "cell_type": "code",
   "execution_count": 19,
   "metadata": {
    "pycharm": {
     "name": "#%%\n"
    }
   },
   "outputs": [
    {
     "data": {
      "image/png": "[encoded data removed]",
      "text/plain": [
       "<Figure size 432x288 with 1 Axes>"
      ]
     },
     "metadata": {
      "needs_background": "light"
     },
     "output_type": "display_data"
    }
   ],
   "source": [
    "fig2, ax2 = plt.subplots()\n",
    "ax2.set_title('Tempo de Ignição (s)')\n",
    "ax2.boxplot(ignicao, labels=[' '])\n",
    "ax2.yaxis.grid(True, linestyle='-', which='major', color='lightgrey',\n",
    "               alpha=0.5)\n",
    "plt.show()"
   ]
  }
 ],
 "metadata": {
  "kernelspec": {
   "display_name": "Python 3",
   "language": "python",
   "name": "python3"
  },
  "language_info": {
   "codemirror_mode": {
    "name": "ipython",
    "version": 3
   },
   "file_extension": ".py",
   "mimetype": "text/x-python",
   "name": "python",
   "nbconvert_exporter": "python",
   "pygments_lexer": "ipython3",
   "version": "3.8.8"
  }
 },
 "nbformat": 4,
 "nbformat_minor": 1
}